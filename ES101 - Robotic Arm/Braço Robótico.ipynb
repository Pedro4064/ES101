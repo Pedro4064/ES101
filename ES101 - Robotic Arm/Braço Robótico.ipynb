{
 "cells": [
  {
   "cell_type": "markdown",
   "metadata": {},
   "source": [
    "<img src=\"img/unicamp.png\" width=\"400\">"
   ]
  },
  {
   "cell_type": "markdown",
   "metadata": {},
   "source": [
    "\n",
    "\n",
    "# Braço Robótico \n",
    "\n",
    "\n",
    "## Overview \n",
    "•O braço robótico é do tipo RP.\n",
    "\n",
    "•A junta rotativa possui o comprimento $r_{1}=500mm $ e um grau de liberade $ 0º \\leq \\theta \\leq 90º$\n",
    "\n",
    "•A junta prismática apresenta um comprimento $0mm \\leq r_{2} \\leq 500mm$\n",
    "\n",
    "## Manipulação\n",
    "•Para facilitar tanto o cinemático direto quanto o cinemático inverso, o braço robótico foi representado como dois vetores, um para a junta rotativa e outro para a junta prismática.\n",
    "\n",
    "•O ponto de origem do braço robótico corresponde ao ponto de origem do sistem $O = (0,0)$\n",
    "\n",
    "## Código\n",
    "•O código de manipulação do robô foi feita em python3, utilizando o módulo numpy e matplotlib, além de outro script que foi feito para esse trabalho chamado `vectors`, para manipulação de vetores.\n",
    "\n",
    "#### Imports \n",
    "\n"
   ]
  },
  {
   "cell_type": "code",
   "execution_count": 6,
   "metadata": {},
   "outputs": [],
   "source": [
    "import vectors\n",
    "import matplotlib.pyplot as plt\n",
    "import numpy as np"
   ]
  },
  {
   "cell_type": "markdown",
   "metadata": {},
   "source": [
    "#### 1.0 Class definition e constructor\n",
    "•Definiremos a classe `robotic_arm`, que tera os seguintes atributos:\n",
    "\n",
    "   <img src=\"img/Variables_table.png\" width=\"400\">"
   ]
  },
  {
   "cell_type": "code",
   "execution_count": 7,
   "metadata": {},
   "outputs": [],
   "source": [
    "class robotic_arm():\n",
    "\n",
    "    def __init__(self):\n",
    "        \n",
    "        ######## Create variables for this class ########\n",
    "        \n",
    "        # The origin point for the robotic arm  \n",
    "        self.origin_point = vectors.point(0,0)\n",
    "\n",
    "        # the vector representing the rotating arm at the default position\n",
    "        self.arm_vector = vectors.vector2(x=500,y=0)\n",
    "\n",
    "        # The vector that represents the retracting arm\n",
    "        self.retracting_arm_vector = vectors.vector2(500,0)\n",
    "\n",
    "        # The target point used in the reverse kinematics\n",
    "        self.target = vectors.point(0,0)"
   ]
  },
  {
   "cell_type": "markdown",
   "metadata": {},
   "source": [
    "#### 1.1 `reset_rotating_arm( )`\n",
    "•Método que retorna o vector representante da junta rotativa de volta para seu valor inicial de:\n",
    "   $$\\vec{v} = \\begin{pmatrix} 500 \\\\ 0 \\end{pmatrix}$$"
   ]
  },
  {
   "cell_type": "code",
   "execution_count": 8,
   "metadata": {},
   "outputs": [],
   "source": [
    "    def reset_rotating_arm(self):\n",
    "\n",
    "        # the vector representing the rotating arm at the default position\n",
    "        self.arm_vector = vectors.vector2(x=500,y=0)"
   ]
  },
  {
   "cell_type": "markdown",
   "metadata": {},
   "source": [
    "#### 1.2 `reset_retracting_arm( )`\n",
    "•Método que extende a junta prismática para seu comprimento máximo $r_2=500 mm$ paralelo ao eixo $x$\n"
   ]
  },
  {
   "cell_type": "code",
   "execution_count": 9,
   "metadata": {},
   "outputs": [],
   "source": [
    "    def reset_retracting_arm(self):\n",
    "\n",
    "        # The vector that represents the retracting arm\n",
    "        self.retracting_arm_vector = vectors.vector2(500,0)"
   ]
  },
  {
   "cell_type": "markdown",
   "metadata": {},
   "source": [
    "#### 1.3 `set_target( )`\n",
    "•Método que recebe um `vector.point` como parâmetro e implementa ele como ponto alvo da garra robótica"
   ]
  },
  {
   "cell_type": "code",
   "execution_count": 10,
   "metadata": {},
   "outputs": [],
   "source": [
    "    def set_target(self, target_point):\n",
    "\n",
    "        self.target = target_point"
   ]
  },
  {
   "cell_type": "markdown",
   "metadata": {},
   "source": [
    "#### 1.4 `calculate_movemet_to_target( )`\n",
    "•Método que faz todos os cálculos necessários para mover as juntas do robô para que consiga chegar no ponto alvo.\n",
    "\n",
    "##### 1º Passo:\n",
    "\n",
    "   Determinar o vetor da origem do robo $O=(0,0)$ até o ponto alvo $A=(x_{1},y_{1})$ através do método `vector_from_points( )` do módulo `vectors`\n",
    "   \n",
    "  $$\\vec{V} = \\vec{OA} = \\begin{pmatrix} x_{1} - 0 \\\\ y_{1} - 0 \\end{pmatrix}$$\n",
    "  \n",
    "##### 2º Passo:\n",
    "\n",
    "   Devemos conferir se a norma desse vetor é menor do que a norma do vetor rotativo, pois é a menor distância que o braço consegue alcançar. Se for menor o algoritmo retornará um erro.\n",
    "   \n",
    "##### 3º Passo:\n",
    "\n",
    "   Calculamos o ângulo entre o vetor $\\vec{V}$ e o eixo $x$.\n",
    "   \n",
    "   $$ \\lVert \\vec{V} . \\vec{x_{0}} \\rVert  = \\lVert \\vec{V} \\rVert . \\lVert \\vec{x_{0}} \\rVert . \\cos {\\theta} $$\n",
    "\n",
    "$$ \\cos {\\theta} = \\dfrac{\\lVert \\vec{V} . \\vec{x_{0}} \\rVert} {\\lVert \\vec{V} \\rVert . \\lVert \\vec{x_{0}} \\rVert} $$\n",
    "\n",
    "$$ \\theta = \\arccos{\\left(\\dfrac{\\lVert \\vec{V} . \\vec{x_{0}} \\rVert} {\\lVert \\vec{V} \\rVert . \\lVert \\vec{x_{0}} \\rVert}\\right)} $$\n",
    "\n",
    "##### 4º Passo:\n",
    "\n",
    "   Verificamos se o angulo $\\theta$ está dentro dos limites da junta rotativa : \n",
    "   $$0º \\leq \\theta \\leq 90º$$\n",
    "   \n",
    "   Se estiver fora do aceitável, o algoritmo retornará um erro.\n",
    "   \n",
    "   \n",
    "##### 5º Passo:\n",
    "\n",
    "   Depois de determinado o ângulo, nós rotacionamos o vetor da junta rotativa em $\\theta$ graus:\n",
    "   \n",
    "   $$ \\vec{v'} = R_{\\theta} . \\vec{v} $$ \n",
    "\n",
    "$$ v' = \\begin{pmatrix} \\cos{\\theta} & -\\sin{\\theta} \\\\  \\sin{\\theta} & \\cos{\\theta} \\end{pmatrix} . \\begin{pmatrix} x \\\\ y \\end{pmatrix}$$\n",
    "\n",
    "##### 6º Passo:\n",
    "\n",
    "   Calculamos quanto que o braço retrátil deve se extender para finalmente alcançar o ponto alvo.\n",
    "   \n",
    "   Fazemos isso subtraindo o vetor $\\vec{v}$ que representa a junta rotativa com norma fixa do $\\vec{V}$ que representa o vetor da origem até o ponto alvo.\n",
    "   \n",
    "   $$\\vec{w} = \\vec{V} - \\vec{v}$$\n",
    "   \n",
    "##### 7º Passo:\n",
    "\n",
    "   Conferimos a norma do vetor $\\vec{w}$, se for maior do que o alcance máximo da junta prismática, o algortimo retornará um erro notificando o usuário.\n",
    "   \n",
    "###### Implementação do código:"
   ]
  },
  {
   "cell_type": "code",
   "execution_count": 11,
   "metadata": {},
   "outputs": [],
   "source": [
    "    def calculate_movemet_to_target(self):\n",
    "\n",
    "        # First determine the vector from the origin point of the robot to the target point \n",
    "        v = self.origin_point.vector_from_points(self.target)\n",
    "\n",
    "        # If the norm of the v vector is smaller than 500, it's outside the workspace since the smallest\n",
    "        # vector possible is when the retracting arm = 0\n",
    "        if v.norm() < 500:\n",
    "            raise KeyError('[ERROR] Range error: Point outside workspace')\n",
    "\n",
    "        # Check to see if the angle between the v target vector and the x axis is outside the arms range (0<=angle<=90)\n",
    "        reference_angle = v.angle()\n",
    "        if reference_angle > 90 or reference_angle<0:\n",
    "            raise KeyError('[ERROR] Range Error: The angle desired %s is outsie the range of motion'%(str(reference_angle)))\n",
    "       \n",
    "        # Calculate the angle which the arm will have to rotate from its current position to go to the target position\n",
    "        target_angle = v.angle(self.arm_vector)\n",
    "\n",
    "        # Rotate the arm vector that amount \n",
    "        self.arm_vector = self.arm_vector.rotate_vector(target_angle)\n",
    "\n",
    "        # subtract the arm vector from the target v vector, which will result in how much the retracting arm will need to move \n",
    "        self.retracting_arm_vector = v - self.arm_vector\n",
    "\n",
    "        # The max length of the retracting is 0,5m (aka 500mm)so if the nor of the vector is gratter than that, raise an error\n",
    "        if self.retracting_arm_vector.norm() > 500:\n",
    "            raise KeyError('[ERROR] Range error: Point outside workspace')\n",
    "        \n",
    "        print('The angle of movement is:',target_angle)\n",
    "        print('The vector representing the rotating arm is:', self.arm_vector)\n",
    "        print('The vector representing the retracting arm is:', self.retracting_arm_vector)"
   ]
  },
  {
   "cell_type": "markdown",
   "metadata": {},
   "source": [
    "#### 1.5 `rotate_robotic_arm( )`\n",
    "• Método para fazer a rotação da junta rotativa, como explicado na seção 1.4:\n",
    "\n",
    " $$ \\vec{v'} = R_{\\theta} . \\vec{v} $$ \n",
    "\n",
    "$$ v' = \\begin{pmatrix} \\cos{\\theta} & -\\sin{\\theta} \\\\  \\sin{\\theta} & \\cos{\\theta} \\end{pmatrix} . \\begin{pmatrix} x \\\\ y \\end{pmatrix}$$"
   ]
  },
  {
   "cell_type": "code",
   "execution_count": 12,
   "metadata": {},
   "outputs": [],
   "source": [
    "    def rotate_robotic_arm(self,angle):\n",
    "\n",
    "        # rotate the robotic arm \n",
    "        self.arm_vector = self.arm_vector.rotate_vector(angle)\n",
    "        \n",
    "        # also 'rotate' the retracting arm \n",
    "        self.retracting_arm_vector = self.retracting_arm_vector.rotate_vector(angle - self.arm_vector.angle())"
   ]
  },
  {
   "cell_type": "markdown",
   "metadata": {},
   "source": [
    "#### 1.6 `extand_arm( )`\n",
    "•Método para extender ou diminuir o vetor da junta prismática.\n",
    "\n",
    "•Como o vector que representa a junta prismática é Linearmente Dependente do vetor que representa a junta rotativa, para determinarmos as componentes $x$ e $y$ do vetor prismático precisamos apenas multiplicar o vetor rotativo por um escalar $\\alpha$ que represente a porcentagem do valor total do vetor prismático.\n",
    "$$0 \\leq \\alpha \\leq 1$$"
   ]
  },
  {
   "cell_type": "code",
   "execution_count": 13,
   "metadata": {},
   "outputs": [],
   "source": [
    "    def extand_arm(self, percentage):\n",
    "        \n",
    "        self.retracting_arm_vector = self.arm_vector.multiplication_by_scalar(percentage)"
   ]
  },
  {
   "cell_type": "markdown",
   "metadata": {},
   "source": [
    "#### 1.7 `plot_robotic_arm( )`\n",
    "\n",
    "•Método para visualizar os vetores que representam o braço robótico.\n",
    "\n",
    "•Utilizamos o módulo `matplotlib`."
   ]
  },
  {
   "cell_type": "code",
   "execution_count": 14,
   "metadata": {},
   "outputs": [],
   "source": [
    "    def plot_robotic_arm(self):\n",
    "\n",
    "        %matplotlib inline\n",
    "\n",
    "        # Create the subplots\n",
    "        fig,ax = plt.subplots()\n",
    "\n",
    "        # create the vector representation of the rotating robotic arm\n",
    "        ax.quiver(self.origin_point.x,self.origin_point.y, self.arm_vector.x , self.arm_vector.y,color='orange' , units='xy' ,scale=1)\n",
    "\n",
    "        # Create the vector that will represent the retracting robot arm \n",
    "        plt.quiver(self.arm_vector.x,self.arm_vector.y, self.retracting_arm_vector.x, self.retracting_arm_vector.y,color='b', units='xy' ,scale=1)\n",
    "\n",
    "        # Equalize the axis and vectors \n",
    "        ax.set_aspect('equal')\n",
    "\n",
    "        # set the grids \n",
    "        plt.grid()\n",
    "\n",
    "        # set the limits in the graph \n",
    "        plt.xlim(0,1000)\n",
    "        plt.ylim(0,1000)\n",
    "\n",
    "        # set the labels \n",
    "        plt.xlabel('X component (mm)')\n",
    "        plt.ylabel('Y component (mm)')\n",
    "\n",
    "        plt.title('Robotic Arm')\n",
    "\n",
    "        # show the plot\n",
    "        plt.show()"
   ]
  },
  {
   "cell_type": "markdown",
   "metadata": {},
   "source": [
    "#### 1.8 `plot_workspace( )`\n",
    "•Método \"brute force\" de determinação e vizualização do workspace do robô.\n",
    "\n",
    "•Calculado através de $9 . 10^6$ iterations ( i.e $9 . 10^6$ pontos calculados), armazenando as coordenadas desses pontos encontrados, que posteriormente são vizualizados em um scatter plot utilizando matplotlib."
   ]
  },
  {
   "cell_type": "code",
   "execution_count": 15,
   "metadata": {},
   "outputs": [],
   "source": [
    "    def plot_workspace(self):\n",
    "        \n",
    "        %matplotlib inline\n",
    "        \n",
    "        x_coordinates = []\n",
    "        y_coordinates = []\n",
    "\n",
    "        # Iterate through all the possible angles for the rotating robotic arm \n",
    "        for angle in np.arange(0,90.01,0.01):\n",
    "\n",
    "            # move the robotic arm \n",
    "            self.rotate_robotic_arm(angle)\n",
    "\n",
    "            # Iterate through all the possible lengths of the extending arm \n",
    "            for percentage_of_arm in np.arange(0,1.001,0.001):\n",
    "\n",
    "                # update the arm lenght \n",
    "                self.extand_arm(percentage_of_arm)\n",
    "\n",
    "                # Calculate the x coordinate of the tip of the arm\n",
    "                x_coordinates.append(self.origin_point.x+self.arm_vector.x+self.retracting_arm_vector.x)\n",
    "\n",
    "                # Calculate the y cooridnate of the tip of the arm \n",
    "                y_coordinates.append(self.origin_point.y+self.arm_vector.y+self.retracting_arm_vector.y)\n",
    "\n",
    "                # reset the lenght of the arm \n",
    "                self.reset_retracting_arm()\n",
    "\n",
    "\n",
    "            # set the robotic arm back to the original position \n",
    "            self.reset_rotating_arm()\n",
    "\n",
    "        # Plot all the poinst \n",
    "        plt.plot(x_coordinates,y_coordinates,'o',color = ('black'))\n",
    "        plt.title(\"Robot's Workspace\")\n",
    "        plt.show()"
   ]
  },
  {
   "cell_type": "markdown",
   "metadata": {},
   "source": [
    "## Exemplos \n",
    "\n",
    "### Cinemática Direta \n"
   ]
  },
  {
   "cell_type": "code",
   "execution_count": 45,
   "metadata": {},
   "outputs": [
    {
     "data": {
      "image/png": "[encoded data removed]",
      "text/plain": [
       "<Figure size 432x288 with 1 Axes>"
      ]
     },
     "metadata": {
      "needs_background": "light"
     },
     "output_type": "display_data"
    },
    {
     "data": {
      "image/png": "[encoded data removed]",
      "text/plain": [
       "<Figure size 432x288 with 1 Axes>"
      ]
     },
     "metadata": {
      "needs_background": "light"
     },
     "output_type": "display_data"
    },
    {
     "name": "stdout",
     "output_type": "stream",
     "text": [
      "[[530.3325],[530.3325]]\n"
     ]
    }
   ],
   "source": [
    "# import the necessary modules\n",
    "import vectors\n",
    "import robot\n",
    "\n",
    "%matplotlib inline\n",
    "\n",
    "# Instantiate the robot_arm class \n",
    "garra = robot.robotic_arm()\n",
    "\n",
    "# plot the arm in the default position\n",
    "garra.plot_robotic_arm()\n",
    "\n",
    "# change the angle and the size of the retracting arm and plot again\n",
    "garra.rotate_robotic_arm(45) #Rotate 45º\n",
    "garra.extand_arm(.5)         #Extend 50% the total length\n",
    "garra.plot_robotic_arm()     #Show the plot\n",
    "print(garra.retracting_arm_vector + garra.arm_vector)"
   ]
  },
  {
   "cell_type": "markdown",
   "metadata": {},
   "source": [
    "## Cinemática Indireta "
   ]
  },
  {
   "cell_type": "code",
   "execution_count": 119,
   "metadata": {},
   "outputs": [
    {
     "name": "stdout",
     "output_type": "stream",
     "text": [
      "The angle of movement is: 63.43494882292201\n",
      "The vector representing the rotating arm is: [[223.605],[447.215]]\n",
      "The vector representing the retracting arm is: [[129.94839059],[259.89178119]]\n"
     ]
    },
    {
     "data": {
      "image/png": "[encoded data removed]",
      "text/plain": [
       "<Figure size 432x288 with 1 Axes>"
      ]
     },
     "metadata": {
      "needs_background": "light"
     },
     "output_type": "display_data"
    }
   ],
   "source": [
    "# import the necessary modules\n",
    "import vectors\n",
    "import robot\n",
    "import math\n",
    "\n",
    "%matplotlib inline\n",
    "\n",
    "# Instantiate the robot_arm class \n",
    "garra = robot.robotic_arm()\n",
    "\n",
    "# Create a point which is going to be our target point \n",
    "target_point = vectors.point(1000*(math.sqrt(2)/4),1000*(math.sqrt(2)/2))\n",
    "garra.set_target(target_point)\n",
    "\n",
    "# Calculate the robot's movement\n",
    "garra.calculate_movemet_to_target()\n",
    "garra.plot_robotic_arm()"
   ]
  },
  {
   "cell_type": "markdown",
   "metadata": {},
   "source": [
    "## Workspace"
   ]
  },
  {
   "cell_type": "code",
   "execution_count": 27,
   "metadata": {},
   "outputs": [
    {
     "data": {
      "image/png": "[encoded data removed]",
      "text/plain": [
       "<Figure size 432x288 with 1 Axes>"
      ]
     },
     "metadata": {
      "needs_background": "light"
     },
     "output_type": "display_data"
    }
   ],
   "source": [
    "# import the necessary modules\n",
    "import vectors\n",
    "import robot\n",
    "import matplotlib.pyplot as plt\n",
    "import numpy as np\n",
    "%matplotlib inline\n",
    "\n",
    "# Instantiate the robot_arm class \n",
    "garra = robot.robotic_arm()\n",
    "garra.plot_workspace()"
   ]
  },
  {
   "cell_type": "markdown",
   "metadata": {},
   "source": [
    "## Perfil Trapezoidal de Velocidade\n",
    "\n",
    "• Supondo que em um certo trabalho a garra robótica necessite de fazer um percurso que é um quadrado de vértices: $P_{1}, P_{2}, P_{3}, P_{4}$, respectivamente, onde $P_{1} = (\\frac{\\sqrt{2}}{4},\\frac{\\sqrt{2}}{4})$, $P_{2} = (\\frac{\\sqrt{2}}{2},\\frac{\\sqrt{2}}{4})$, $P_{3} = (\\frac{\\sqrt{2}}{2},\\frac{\\sqrt{2}}{2})$, $P_{4} = (\\frac{\\sqrt{2}}{4},\\frac{\\sqrt{2}}{2})$, em um período de tempo $T_{total} = 10s$, tendo início no ponto $P_{1}$.\n",
    "\n",
    "• Sua junta rotativa deve seguir a seguinte tragetória para cada trexo do percurso(i.e de $P_{1}$ até $P_{2}$, $P_{2}$ até $P_{3}$ ... ):\n",
    "\n",
    "<img src=\"img/Perfil_Trapezoidal\" width=\"500\">\n",
    "-Onde cada $\\Delta T = \\frac{T_{total}}{4} = 2.5 s$\n",
    "\n",
    "-Onde $t_s = \\Delta T \\times  10 \\% = 0.25 s$\n",
    "\n",
    "\n",
    "• Da mesma forma, sua junta prismática deve seguir tragetória similar mas com velocidade linear.\n",
    "\n"
   ]
  },
  {
   "cell_type": "markdown",
   "metadata": {},
   "source": [
    "### $P_1$ a $P_2$\n",
    "\n",
    "•Temos :\n",
    "    $P_{1} = (\\frac{\\sqrt{2}}{4},\\frac{\\sqrt{2}}{4})$, $P_{2} = (\\frac{\\sqrt{2}}{2},\\frac{\\sqrt{2}}{4})$.\n",
    "   \n",
    "Passos:\n",
    "   1. Achar $\\theta _{1}$ e $\\theta _{2}$;\n",
    "   2. Calcular $\\Delta \\theta$;\n",
    "   3. Calcular $\\omega _{max} = \\frac{\\Delta \\theta}{\\Delta T - t_s}$\n",
    "   4. Criar gráfico representativo\n",
    "   5. Achar o $\\Delta S $ que a junta prismática precisará executar\n",
    "   6. Criar um gráfico representativo do perfil de velocidade da junta prismática \n",
    "    "
   ]
  },
  {
   "cell_type": "markdown",
   "metadata": {},
   "source": [
    "#### 1. Achar $\\theta_1$ e $\\theta_2$\n",
    "\n",
    "•Primeiro criamos os pontos $P_1$ e $P_2$;\n",
    "\n",
    "•Depois criamos vetores da origem do robô até cada um dos pontos.\n",
    "\n",
    "•Usamos o método que criamos para achar o ângulo entre o esses vetores e o eixo X;"
   ]
  },
  {
   "cell_type": "code",
   "execution_count": 3,
   "metadata": {},
   "outputs": [],
   "source": [
    "# import the necessary modules\n",
    "import vectors\n",
    "import robot\n",
    "import math\n",
    "import matplotlib.pyplot as plt\n",
    "import numpy as np\n",
    "%matplotlib inline\n",
    "\n",
    "# Instantiate the robot_arm class \n",
    "garra = robot.robotic_arm()\n",
    "\n",
    "# Create P1 and P2 points \n",
    "p_1 = vectors.point(1000*(math.sqrt(2)/4), 1000*(math.sqrt(2)/4))\n",
    "p_2 = vectors.point(1000*(math.sqrt(2)/2), 1000*(math.sqrt(2)/4))\n",
    "\n",
    "# Create the vectors \n",
    "v_1 = garra.origin_point.vector_from_points(p_1)\n",
    "v_2 = garra.origin_point.vector_from_points(p_2)\n",
    "\n",
    "# Get the angles \n",
    "theta_1 = v_1.angle()\n",
    "theta_2 = v_2.angle()\n"
   ]
  },
  {
   "cell_type": "markdown",
   "metadata": {},
   "source": [
    "#### 2. Calcular $\\Delta \\theta$\n",
    "\n",
    "•Como já temos $\\theta_1$ e $\\theta_2$ só precisamos subtrair."
   ]
  },
  {
   "cell_type": "code",
   "execution_count": 4,
   "metadata": {},
   "outputs": [
    {
     "name": "stdout",
     "output_type": "stream",
     "text": [
      "∆theta: -18.434948822922014\n"
     ]
    }
   ],
   "source": [
    "delta = theta_2 - theta_1\n",
    "print('∆theta:',delta)"
   ]
  },
  {
   "cell_type": "markdown",
   "metadata": {},
   "source": [
    "#### 3. Calcular $\\omega_{max}$\n",
    "\n",
    "•Como vimos anteriormente:\n",
    "\n",
    "   - $\\Delta T = 2.5s$\n",
    "   - $t_{s} = 0.25s$\n",
    "   - $\\omega_{max} = \\frac{\\Delta \\theta}{\\Delta T - t_{s}}$."
   ]
  },
  {
   "cell_type": "code",
   "execution_count": 5,
   "metadata": {},
   "outputs": [
    {
     "name": "stdout",
     "output_type": "stream",
     "text": [
      "Max angular velocity: -8.193310587965339 degrees/s\n"
     ]
    }
   ],
   "source": [
    "max_ang_velocity = (delta/(2.5 - 0.25))\n",
    "print('Max angular velocity:',max_ang_velocity, 'degrees/s')"
   ]
  },
  {
   "cell_type": "markdown",
   "metadata": {},
   "source": [
    "#### 4. Gráfico \n",
    "\n",
    "•O gráfico seria dividido em basicamente 3 partes:\n",
    "\n",
    "   1. Aceleração entre $t_{0} = 0$ até $t = 0.25s$ com valor igual à $\\alpha = \\frac{\\Delta \\omega}{t_{2}} = \\frac{\\omega_{max} - 0}{t_{2}} = \\frac{\\omega_{max}}{0.25s}$;\n",
    "   2. Velocidade Constante entre $t = 0.25s$ até $t = 2.25$, com $\\omega = \\omega_{max}$;\n",
    "   3. Desaceleração de mesma intencidade que a aceleração $\\therefore \\alpha' = - \\frac{\\omega_{max}}{0.25s}$"
   ]
  },
  {
   "cell_type": "code",
   "execution_count": 6,
   "metadata": {},
   "outputs": [
    {
     "data": {
      "image/png": "[encoded data removed]",
      "text/plain": [
       "<Figure size 432x288 with 1 Axes>"
      ]
     },
     "metadata": {
      "needs_background": "light"
     },
     "output_type": "display_data"
    }
   ],
   "source": [
    "x = [0, 0.25, 2.25, 2.5]\n",
    "y = [0, max_ang_velocity, max_ang_velocity, 0]\n",
    "\n",
    "plt.grid() \n",
    "plt.xlabel('Time (s)')\n",
    "plt.ylabel('Angular Velocity (degrees/s)')\n",
    "plt.plot(x,y)\n",
    "plt.show()"
   ]
  },
  {
   "cell_type": "markdown",
   "metadata": {},
   "source": [
    "#### 5. $\\Delta S$ da junta prismática\n",
    "\n",
    "Para Descobrismos o $\\Delta S$ precisamos somente comparar as normas do vetores que representam um braço robótico  no ponto inicial $P_{1}$ e outro braço robótico no ponto final $P_{2}$."
   ]
  },
  {
   "cell_type": "code",
   "execution_count": 15,
   "metadata": {
    "collapsed": true
   },
   "outputs": [
    {
     "name": "stdout",
     "output_type": "stream",
     "text": [
      "The angle of movement is: 45.00000000000001\n",
      "The vector representing the rotating arm is: [[353.555],[353.555]]\n",
      "The vector representing the retracting arm is: [[-0.00160941],[-0.00160941]]\n",
      "\n",
      "The angle of movement is: 26.565051177077994\n",
      "The vector representing the rotating arm is: [[447.215],[223.605]]\n",
      "The vector representing the retracting arm is: [[259.89178119],[129.94839059]]\n",
      "\n",
      "\n",
      "Delta S: 290.5666867610836\n"
     ]
    }
   ],
   "source": [
    "# Instantiate the robot_arm class \n",
    "garra_1 = robot.robotic_arm()\n",
    "garra_2 = robot.robotic_arm()\n",
    "\n",
    "\n",
    "# Set the robotic arms to their corresponding points\n",
    "garra_1.set_target(p_1)\n",
    "garra_2.set_target(p_2)\n",
    "\n",
    "garra_1.calculate_movemet_to_target()\n",
    "print()\n",
    "garra_2.calculate_movemet_to_target()\n",
    "\n",
    "# garra_1.plot_robotic_arm()\n",
    "# garra_2.plot_robotic_arm()\n",
    "\n",
    "# Get the norm for each retracting vector\n",
    "norm_1 = garra_1.retracting_arm_vector.norm()\n",
    "norm_2 = garra_2.retracting_arm_vector.norm()\n",
    "\n",
    "# Calculate the Delta\n",
    "delta_s = norm_2 - norm_1\n",
    "print()\n",
    "print()\n",
    "print('Delta S:', delta_s)"
   ]
  },
  {
   "cell_type": "markdown",
   "metadata": {},
   "source": [
    "#### 6. Gráfico do perfíl de velocidade da junta prismática\n",
    "\n",
    "De forma análoga a como foi feito com a junta rotativa, a velocidade linear máxima da junta prismática $V_{máx} = \\frac{\\Delta s}{\\Delta T - t_{s}}$"
   ]
  },
  {
   "cell_type": "code",
   "execution_count": 16,
   "metadata": {},
   "outputs": [
    {
     "name": "stdout",
     "output_type": "stream",
     "text": [
      "Max velocity: 129.14074967159272 mm/s\n"
     ]
    },
    {
     "data": {
      "image/png": "[encoded data removed]",
      "text/plain": [
       "<Figure size 432x288 with 1 Axes>"
      ]
     },
     "metadata": {
      "needs_background": "light"
     },
     "output_type": "display_data"
    }
   ],
   "source": [
    "# Calculate the max velocity\n",
    "max_velocity = (delta_s/(2.5 - 0.25))\n",
    "print('Max velocity:',max_velocity,'mm/s')\n",
    "\n",
    "# plot the trapezoidal profile\n",
    "x = [0, 0.25, 2.25, 2.5]\n",
    "y = [0, max_velocity, max_velocity, 0]\n",
    "\n",
    "plt.grid() \n",
    "plt.xlabel('Time (s)')\n",
    "plt.ylabel('Velocity (mm/s)')\n",
    "plt.plot(x,y)\n",
    "plt.show()"
   ]
  },
  {
   "cell_type": "markdown",
   "metadata": {},
   "source": [
    "#### Modelagem de uma função \n",
    "•Como teremos que fazer todos esses procedimentos mais 3 vezes podemos criar uma função que agilize esse processo."
   ]
  },
  {
   "cell_type": "code",
   "execution_count": 81,
   "metadata": {},
   "outputs": [],
   "source": [
    "def trapezoidal_profile(point_i, point_f, time_interval):\n",
    "\n",
    "    ###################### Angular velocity profile ######################\n",
    "    \n",
    "    garra = robot.robotic_arm()\n",
    "    # Create the vectors from points\n",
    "    v_1 = garra.origin_point.vector_from_points(point_i)\n",
    "    v_2 = garra.origin_point.vector_from_points(point_f)\n",
    "\n",
    "    # Get the angles between them\n",
    "    theta_1 = v_1.angle()\n",
    "    theta_2 = v_2.angle()\n",
    "    \n",
    "    print('Theta 1:',theta_1)\n",
    "    print('Theta 2:',theta_2)\n",
    "    \n",
    "    # Calculate the Delta\n",
    "    delta = theta_2 - theta_1\n",
    "    print('∆theta:',delta)\n",
    "    \n",
    "    # Calculate the Max angular velocity \n",
    "    max_ang_velocity = (delta/(2.5 - 0.25))\n",
    "    print('Max angular velocity:',max_ang_velocity, 'degrees/s')\n",
    "    \n",
    "    # Generate the trapezoidal profile\n",
    "    y_angular = [0, max_ang_velocity, max_ang_velocity, 0]\n",
    "\n",
    "    \n",
    "    ###################### Linear velocity profile ######################\n",
    "    \n",
    "    # Instantiate the robot_arm class \n",
    "    garra_1 = robot.robotic_arm()\n",
    "    garra_2 = robot.robotic_arm()\n",
    "\n",
    "\n",
    "    # Set the robotic arms to their corresponding points\n",
    "    garra_1.set_target(point_i)\n",
    "    garra_2.set_target(point_f)\n",
    "\n",
    "    garra_1.calculate_movemet_to_target()\n",
    "    print()\n",
    "    garra_2.calculate_movemet_to_target()\n",
    "\n",
    "    # garra_1.plot_robotic_arm()\n",
    "    # garra_2.plot_robotic_arm()\n",
    "\n",
    "    # Get the norm for each retracting vector\n",
    "    norm_1 = garra_1.retracting_arm_vector.norm()\n",
    "    norm_2 = garra_2.retracting_arm_vector.norm()\n",
    "\n",
    "    # Calculate the Delta\n",
    "    delta_s = norm_2 - norm_1\n",
    "    print()\n",
    "    print()\n",
    "    print('Delta S:', delta_s)\n",
    "    \n",
    "    # Calculate the max velocity\n",
    "    max_velocity = (delta_s/(2.5 - 0.25))\n",
    "    print('Max velocity:',max_velocity,'mm/s')\n",
    "\n",
    "    # plot the trapezoidal profile\n",
    "    y_linear = [0, max_velocity, max_velocity, 0]\n",
    "\n",
    "    \n",
    "    ###################### Plotting ######################\n",
    "#     fig,(angular_profile,linear_profile) = plt.subplots(1,2)\n",
    "    fig = plt.figure(figsize=(20,5))\n",
    "    angular_profile = fig.add_subplot(1,2,1)\n",
    "    linear_profile = fig.add_subplot(1,2,2, sharex = angular_profile)\n",
    "    \n",
    "    angular_profile.set_title('Angular Velocity Profile')\n",
    "    angular_profile.set_ylabel('degrees/s')\n",
    "    angular_profile.set_xlabel('time (s)')\n",
    "\n",
    "    angular_profile.plot(time_interval, y_angular)\n",
    "    \n",
    "    linear_profile.set_title('Linear Velocity Profile')\n",
    "    linear_profile.set_ylabel('mm/s')\n",
    "    linear_profile.set_xlabel('time (s)')\n",
    "    linear_profile.plot(time_interval, y_linear, 'C1')\n",
    "    \n",
    "    plt.show()"
   ]
  },
  {
   "cell_type": "markdown",
   "metadata": {},
   "source": [
    "### $P_2$ a $P_3$\n",
    "\n",
    "•Temos :\n",
    "    $P_{2} = (\\frac{\\sqrt{2}}{2},\\frac{\\sqrt{2}}{4})$, $P_{3} = (\\frac{\\sqrt{2}}{2},\\frac{\\sqrt{2}}{2})$."
   ]
  },
  {
   "cell_type": "code",
   "execution_count": 82,
   "metadata": {},
   "outputs": [
    {
     "name": "stdout",
     "output_type": "stream",
     "text": [
      "Theta 1: 26.565051177077994\n",
      "Theta 2: 45.00000000000001\n",
      "∆theta: 18.434948822922014\n",
      "Max angular velocity: 8.193310587965339 degrees/s\n",
      "The angle of movement is: 26.565051177077994\n",
      "The vector representing the rotating arm is: [[447.215],[223.605]]\n",
      "The vector representing the retracting arm is: [[259.89178119],[129.94839059]]\n",
      "\n",
      "The angle of movement is: 45.00000000000001\n",
      "The vector representing the rotating arm is: [[353.555],[353.555]]\n",
      "The vector representing the retracting arm is: [[353.55178119],[353.55178119]]\n",
      "\n",
      "\n",
      "Delta S: 209.4287611492772\n",
      "Max velocity: 93.07944939967875 mm/s\n"
     ]
    },
    {
     "data": {
      "image/png": "[encoded data removed]",
      "text/plain": [
       "<Figure size 1440x360 with 2 Axes>"
      ]
     },
     "metadata": {
      "needs_background": "light"
     },
     "output_type": "display_data"
    }
   ],
   "source": [
    "p_2 = vectors.point(1000*(math.sqrt(2)/2), 1000*(math.sqrt(2)/4))\n",
    "p_3 = vectors.point(1000*(math.sqrt(2)/2), 1000*(math.sqrt(2)/2))\n",
    "\n",
    "time = [2.5, 2.75, 4.75, 5]\n",
    "trapezoidal_profile(p_2, p_3, time)"
   ]
  },
  {
   "cell_type": "markdown",
   "metadata": {},
   "source": [
    "### $P_3$ a $P_4$\n",
    "\n",
    "•Temos :\n",
    "    $P_{3} = (\\frac{\\sqrt{2}}{2},\\frac{\\sqrt{2}}{2})$, $P_{4} = (\\frac{\\sqrt{2}}{4},\\frac{\\sqrt{2}}{2})$"
   ]
  },
  {
   "cell_type": "code",
   "execution_count": 83,
   "metadata": {},
   "outputs": [
    {
     "name": "stdout",
     "output_type": "stream",
     "text": [
      "Theta 1: 45.00000000000001\n",
      "Theta 2: 63.43494882292201\n",
      "∆theta: 18.434948822922003\n",
      "Max angular velocity: 8.193310587965335 degrees/s\n",
      "The angle of movement is: 45.00000000000001\n",
      "The vector representing the rotating arm is: [[353.555],[353.555]]\n",
      "The vector representing the retracting arm is: [[353.55178119],[353.55178119]]\n",
      "\n",
      "The angle of movement is: 63.43494882292201\n",
      "The vector representing the rotating arm is: [[223.605],[447.215]]\n",
      "The vector representing the retracting arm is: [[129.94839059],[259.89178119]]\n",
      "\n",
      "\n",
      "Delta S: -209.4287611492772\n",
      "Max velocity: -93.07944939967875 mm/s\n"
     ]
    },
    {
     "data": {
      "image/png": "[encoded data removed]",
      "text/plain": [
       "<Figure size 1440x360 with 2 Axes>"
      ]
     },
     "metadata": {
      "needs_background": "light"
     },
     "output_type": "display_data"
    }
   ],
   "source": [
    "p_3 = vectors.point(1000*(math.sqrt(2)/2), 1000*(math.sqrt(2)/2))\n",
    "p_4 = vectors.point(1000*(math.sqrt(2)/4), 1000*(math.sqrt(2)/2))\n",
    "\n",
    "time = [5, 5.25, 7.25, 7.5]\n",
    "trapezoidal_profile(p_3, p_4, time)"
   ]
  },
  {
   "cell_type": "markdown",
   "metadata": {},
   "source": [
    "### $P_4$ a $P_1$\n",
    "\n",
    "•Temos :\n",
    "    $P_{4} = (\\frac{\\sqrt{2}}{4},\\frac{\\sqrt{2}}{2})$, $P_{1} = (\\frac{\\sqrt{2}}{4},\\frac{\\sqrt{2}}{4})$"
   ]
  },
  {
   "cell_type": "code",
   "execution_count": 155,
   "metadata": {},
   "outputs": [
    {
     "name": "stdout",
     "output_type": "stream",
     "text": [
      "Theta 1: 63.43494882292201\n",
      "Theta 2: 45.00000000000001\n",
      "∆theta: -18.434948822922003\n",
      "Max angular velocity: -8.193310587965335 degrees/s\n"
     ]
    },
    {
     "data": {
      "image/png": "[encoded data removed]",
      "text/plain": [
       "<Figure size 432x288 with 1 Axes>"
      ]
     },
     "metadata": {
      "needs_background": "light"
     },
     "output_type": "display_data"
    }
   ],
   "source": [
    "p_4 = vectors.point(1000*(math.sqrt(2)/4), 1000*(math.sqrt(2)/2))\n",
    "p_1 = vectors.point(1000*(math.sqrt(2)/4), 1000*(math.sqrt(2)/4))\n",
    "\n",
    "time = [7.5, 7.75, 9.75, 10]\n",
    "trapezoidal_profile(p_4, p_1, time)"
   ]
  },
  {
   "cell_type": "code",
   "execution_count": null,
   "metadata": {},
   "outputs": [],
   "source": []
  }
 ],
 "metadata": {
  "kernelspec": {
   "display_name": "Python 3",
   "language": "python",
   "name": "python3"
  },
  "language_info": {
   "codemirror_mode": {
    "name": "ipython",
    "version": 3
   },
   "file_extension": ".py",
   "mimetype": "text/x-python",
   "name": "python",
   "nbconvert_exporter": "python",
   "pygments_lexer": "ipython3",
   "version": "3.7.3"
  }
 },
 "nbformat": 4,
 "nbformat_minor": 4
}
