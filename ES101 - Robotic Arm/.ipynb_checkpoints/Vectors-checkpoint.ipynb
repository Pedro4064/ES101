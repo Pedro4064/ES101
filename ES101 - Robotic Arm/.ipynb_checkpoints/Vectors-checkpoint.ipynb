{
 "cells": [
  {
   "cell_type": "markdown",
   "metadata": {},
   "source": [
    "# Vectors \n",
    "\n",
    "## Overview \n",
    "\n",
    "• Esse módulo foi criado para esse projeto com o intuito de facilitar e agilizar o manuseio de vetores no espaço 2D.\n",
    "\n",
    "• Consiste de dois módulos:\n",
    "\n",
    "    1.Vector2\n",
    "    2.Point"
   ]
  },
  {
   "cell_type": "markdown",
   "metadata": {},
   "source": [
    "## 1.Vector2\n",
    "\n",
    "### Overview\n",
    "\n",
    "•It consists on the representation of a 2d array and its most important arithmetic operations and characteristics like:\n",
    "\n",
    "    -Nomr\n",
    "    -Angle\n",
    "    -Multiplication by a scalar\n",
    "    -Unitary vector\n",
    "    -vector rotation \n",
    "    -Sum\n",
    "    -Subtraction\n",
    "    -scalar product of two vectors\n",
    "    \n",
    "### Code"
   ]
  },
  {
   "cell_type": "markdown",
   "metadata": {},
   "source": [
    "#### 1.1 Imports\n",
    "•Import the necessary modules"
   ]
  },
  {
   "cell_type": "code",
   "execution_count": 7,
   "metadata": {},
   "outputs": [],
   "source": [
    "import math \n",
    "import numpy as np"
   ]
  },
  {
   "cell_type": "markdown",
   "metadata": {},
   "source": [
    "#### 1.2 Class Declaration\n",
    "•Create the class and its constructor, which initializes the x and y components of the vector, whith the default value equal to 0.0 to both"
   ]
  },
  {
   "cell_type": "code",
   "execution_count": 8,
   "metadata": {},
   "outputs": [],
   "source": [
    "class vector2():\n",
    "\n",
    "    def __init__(self,x = 0.0, y=0.0):\n",
    "        self.x = x\n",
    "        self.y = y"
   ]
  },
  {
   "cell_type": "markdown",
   "metadata": {},
   "source": [
    "#### 1.3 set_coordinates( )\n",
    "•Create the helper method to set the x and y componets of the vector afterwards"
   ]
  },
  {
   "cell_type": "code",
   "execution_count": 9,
   "metadata": {},
   "outputs": [],
   "source": [
    "    def set_coordinates(self,x:float,y:float):\n",
    "        self.x = x\n",
    "        self.y = y"
   ]
  },
  {
   "cell_type": "markdown",
   "metadata": {},
   "source": [
    "#### 1.4 nomr( )\n",
    "•Method that takes the norm of a vector by taking the square root of the square of the x componet plus the square of the y componente:\n",
    "\n",
    "$$ \\lVert \\vec{V} \\rVert = \\sqrt{x^2 + y^2}$$"
   ]
  },
  {
   "cell_type": "code",
   "execution_count": 10,
   "metadata": {},
   "outputs": [],
   "source": [
    "    def norm(self):\n",
    "        vector_norm = math.sqrt(self.x**2 + self.y**2)\n",
    "        return vector_norm"
   ]
  },
  {
   "cell_type": "markdown",
   "metadata": {},
   "source": [
    "\n",
    "#### 1.5 angle( )\n",
    "•Method that calculates the angle in degrees between two vectors.\n",
    "\n",
    "•If no vector is passed as a paramaters the angle retruned is between `self` and the `x axis`.\n",
    "\n",
    "•We determine the angle through the scalar multiplication between two vectors:\n",
    "\n",
    "$$ \\lVert \\vec{V} . \\vec{w} \\rVert  = \\lVert \\vec{V} \\rVert . \\lVert \\vec{w} \\rVert . \\cos {\\theta} $$\n",
    "\n",
    "$$ \\cos {\\theta} = \\dfrac{\\lVert \\vec{V} . \\vec{w} \\rVert} {\\lVert \\vec{V} \\rVert . \\lVert \\vec{w} \\rVert} $$\n",
    "\n",
    "$$ \\theta = \\arccos{\\left(\\dfrac{\\lVert \\vec{V} . \\vec{w} \\rVert} {\\lVert \\vec{V} \\rVert . \\lVert \\vec{w} \\rVert}\\right)} $$\n"
   ]
  },
  {
   "cell_type": "code",
   "execution_count": 12,
   "metadata": {},
   "outputs": [],
   "source": [
    "    def angle(self, other_vector = None):\n",
    "        # If the other vector was not passed as paramater, the default is the 'x' (1,0)\n",
    "        if other_vector == None:\n",
    "            other_vector = vector2(1,0) \n",
    "        \n",
    "        # Since we know that the scalar product of two vectos equal the \n",
    "        # product between its norms and the angle between them:\n",
    "        product = self * other_vector\n",
    "        angle_cos = product / (self.norm() * other_vector.norm())\n",
    "        angle = math.acos(angle_cos)\n",
    "\n",
    "        # convert to degrees and returnt he value\n",
    "        angle = math.degrees(angle)\n",
    "        return angle"
   ]
  },
  {
   "cell_type": "markdown",
   "metadata": {},
   "source": [
    "#### 1.6 multiplication_by_scalar( )\n",
    "•Multiplicação por escalar: considerando um vetor $\\vec {v}$ e um escalar $\\alpha \\in \\mathbb{R} $ tal que\n",
    "\n",
    "$$\\vec{v} = \\begin{pmatrix} x \\\\ y \\end{pmatrix}$$\n",
    "\n",
    "$$ \\vec{v} . \\alpha = \\begin{pmatrix} x . \\alpha \\\\ y . \\alpha \\end{pmatrix} $$"
   ]
  },
  {
   "cell_type": "code",
   "execution_count": 13,
   "metadata": {},
   "outputs": [],
   "source": [
    "    def multiplication_by_scalar(self, scalar:float):\n",
    "        return vector2(self.x*scalar,self.y*scalar)"
   ]
  },
  {
   "cell_type": "markdown",
   "metadata": {},
   "source": [
    "#### 1.7 unitary_vector( )\n",
    "•Método retorna o vetor unitário paralelo ao vetor `self`.\n",
    "\n",
    "•O vetor unitário é usado para indicar a direção sentido do vetor.\n",
    "\n",
    "• Ele é calculado ao multiplicaro o vetor pelo inverso de sua norma:\n",
    "\n",
    "$$ \\vec{v} = \\begin{pmatrix} x \\\\ y \\end{pmatrix}$$\n",
    "\n",
    "$$ \\vec{u_{i}}  = \\dfrac{\\vec{v}}{\\lVert \\vec {v} \\rVert}$$\n",
    "\n",
    "$$ \\vec{u_{i}}  = \\vec{v} . \\dfrac{1}{\\lVert \\vec {v} \\rVert}$$\n",
    "\n",
    "$$ \\vec{u_{i}}  = \\vec{v} . \\dfrac{1}{\\sqrt {x^2+y^2}}$$\n"
   ]
  },
  {
   "cell_type": "code",
   "execution_count": 14,
   "metadata": {},
   "outputs": [],
   "source": [
    "    def unitary_vector(self):\n",
    "\n",
    "        # We can find the unitary vector by deviding the vecotr by its norm\n",
    "        unitary_vector = self.multiplication_by_scalar(1/self.norm())\n",
    "        return unitary_vector"
   ]
  },
  {
   "cell_type": "markdown",
   "metadata": {},
   "source": [
    "#### 1.8 rotate_vector( )\n",
    "\n",
    "•Esse métodos retorna um vetor $\\vec{V'} $, que consiste no vetor $\\vec{v}$ rotacionado em um angulo $\\theta$ (em graus) que é passado como argumento.\n",
    "\n",
    "$$ \\vec{v} = \\begin{pmatrix} x \\\\ y \\end{pmatrix},   R_{\\theta} = \\begin{pmatrix} \\cos{\\theta} & -\\sin{\\theta} \\\\  \\sin{\\theta} & \\cos{\\theta} \\end{pmatrix}$$\n",
    "\n",
    "\n",
    "$$ \\vec{V'} = R_{\\theta} . \\vec{V} $$ \n",
    "\n",
    "$$ V' = \\begin{pmatrix} \\cos{\\theta} & -\\sin{\\theta} \\\\  \\sin{\\theta} & \\cos{\\theta} \\end{pmatrix} . \\begin{pmatrix} x \\\\ y \\end{pmatrix}$$"
   ]
  },
  {
   "cell_type": "code",
   "execution_count": 15,
   "metadata": {},
   "outputs": [],
   "source": [
    "    def rotate_vector(self, angle):\n",
    "\n",
    "        # convert the angle to radians \n",
    "        angle = math.radians(angle)\n",
    "        # Create the rotation matrix\n",
    "        r_matrix = np.array([[math.cos(angle).__round__(5),-1*math.sin(angle).__round__(5)],\n",
    "                             [math.sin(angle).__round__(5), math.cos(angle).__round__(5)]])\n",
    "        \n",
    "        # Create an array with the current vector2 componets\n",
    "        arm_vector = np.array([[self.x],\n",
    "                               [self.y]])\n",
    "\n",
    "        # Multiply them \n",
    "        resulting_vecotr = np.matmul(r_matrix,arm_vector)\n",
    "\n",
    "        # Return a vector 2 \n",
    "        return vector2(resulting_vecotr[0], resulting_vecotr[1])"
   ]
  },
  {
   "cell_type": "markdown",
   "metadata": {},
   "source": [
    "#### 1.9 `__add__( )`\n",
    "•Overload do método de soma.\n",
    "\n",
    "•Retorna a soma de dois vetores:\n",
    "\n",
    "$$ \\vec{v} = \\begin{pmatrix} a \\\\ b \\end{pmatrix} , \\vec{u} = \\begin{pmatrix} c \\\\ d \\end{pmatrix} $$\n",
    "\n",
    "$$ \\vec{v} + \\vec{u} = \\begin{pmatrix} a + c \\\\ b + d \\end{pmatrix} $$"
   ]
  },
  {
   "cell_type": "code",
   "execution_count": 16,
   "metadata": {},
   "outputs": [],
   "source": [
    "    def __add__(self,other_vector):\n",
    "        return vector2(x = self.x+other_vector.x, y = self.y+other_vector.y)"
   ]
  },
  {
   "cell_type": "markdown",
   "metadata": {},
   "source": [
    "#### 1.10 `__sub__( )`\n",
    "•Overload do método de subtração.\n",
    "\n",
    "•Retorna o vetor resultante da subtração:\n",
    "\n",
    "$$ \\vec{v} = \\begin{pmatrix} a \\\\ b \\end{pmatrix} , \\vec{u} = \\begin{pmatrix} c \\\\ d \\end{pmatrix} $$\n",
    "\n",
    "$$ \\vec{v} - \\vec{u} = \\begin{pmatrix} a - c \\\\ b - d \\end{pmatrix} $$\n"
   ]
  },
  {
   "cell_type": "code",
   "execution_count": 18,
   "metadata": {},
   "outputs": [],
   "source": [
    "    def __sub__(self, other_vector):\n",
    "        return vector2(x = self.x - other_vector.x, y = self.y - other_vector.y)"
   ]
  },
  {
   "cell_type": "markdown",
   "metadata": {},
   "source": [
    "#### 1.11 `__mul__( )`\n",
    "•Overload do método de multiplicação.\n",
    "\n",
    "•Retorna o valor da multiplicação escalar entre dois vetores:\n",
    "\n",
    "$$ \\vec{v} = \\begin{pmatrix} a \\\\ b \\end{pmatrix} , \\vec{u} = \\begin{pmatrix} c \\\\ d \\end{pmatrix} $$\n",
    "\n",
    "$$ \\vec{v} . \\vec{u} = (a . c) + (b . d)$$"
   ]
  },
  {
   "cell_type": "code",
   "execution_count": 17,
   "metadata": {},
   "outputs": [],
   "source": [
    "     def __mul__(self, other_vector):\n",
    "        scalar = (self.x * other_vector.x) + (self.y*other_vector.y)\n",
    "        return scalar"
   ]
  },
  {
   "cell_type": "code",
   "execution_count": null,
   "metadata": {},
   "outputs": [],
   "source": []
  }
 ],
 "metadata": {
  "kernelspec": {
   "display_name": "Python 3",
   "language": "python",
   "name": "python3"
  },
  "language_info": {
   "codemirror_mode": {
    "name": "ipython",
    "version": 3
   },
   "file_extension": ".py",
   "mimetype": "text/x-python",
   "name": "python",
   "nbconvert_exporter": "python",
   "pygments_lexer": "ipython3",
   "version": "3.7.0"
  }
 },
 "nbformat": 4,
 "nbformat_minor": 4
}
